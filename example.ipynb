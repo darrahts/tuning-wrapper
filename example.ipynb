{
 "cells": [
  {
   "cell_type": "markdown",
   "id": "7dad6b9f-9425-4462-8c55-05d43a643e5c",
   "metadata": {},
   "source": [
    "## Example usage\n",
    "\n",
    "create_bilstm_hypermodel for bilstm  \n",
    "\n",
    "create_hypermodel for FFN (not implemented)  \n",
    "\n",
    "create_cnn_hypermodel for CNN (not implemented)\n",
    "\n",
    "must define input_shape, num_outputs, X_train, and y_train \n",
    "\n",
    "\n",
    "### search methods\n",
    "\n",
    "bayesian_search  \n",
    "\n",
    "hyperband_search  \n",
    "\n",
    "random_search   "
   ]
  },
  {
   "cell_type": "code",
   "execution_count": null,
   "id": "215f5a07-ec35-4b3a-a813-f6f9c653f134",
   "metadata": {},
   "outputs": [],
   "source": [
    "from tuning import *\n",
    "\n",
    "import keras_tuner as kt\n",
    "\n",
    "from kerastuner_tensorboard_logger import (\n",
    "    TensorBoardLogger,\n",
    "    setup_tb  # Optional\n",
    ")\n",
    "\n",
    "################ define\n",
    "# input_shape = \n",
    "# num_outputs = \n",
    "# X_train =\n",
    "# y_train = \n",
    "# max_trails = 96\n",
    "# epochs = 3\n",
    "\n",
    "\n",
    "tuner = tuning.TunerWrapper(input_shape, num_outputs)\n",
    "bayesian_tuning = tuner.bayesian_search(objective='val_root_mean_squared_error',\n",
    "                                        mode='min',\n",
    "                                        max_trials=max_trials,\n",
    "                                        alpha=.0005,\n",
    "                                        beta=10,\n",
    "                                        epochs=epochs,\n",
    "                                        executions_per_trial=1,\n",
    "                                        hypermodel=my_tuning.create_bilstm_hypermodel, \n",
    "                                        directory=f'{log_location}/{data_header}_{footer}',\n",
    "                                        project_name='bilstm',\n",
    "                                        logger=TensorBoardLogger(\n",
    "                                            metrics=['val_root_mean_squared_error'],\n",
    "                                                     logdir=f'{log_location}/{data_header}_{footer}/hparams'\n",
    "                                        ),\n",
    "                                        X=X_train,\n",
    "                                        y=y_train)\n",
    "\n",
    "bayesian_tuning_params = bayesian_tuning.get_best_hyperparameters(num_trials=1)[0]\n",
    "bayesian_tuning_model = bayesian_tuning.get_best_models()[0]\n",
    "print(bayesian_tuning_params.values)\n",
    "bayesian_tuning_model.summary()"
   ]
  }
 ],
 "metadata": {
  "kernelspec": {
   "display_name": "Python 3 (ipykernel)",
   "language": "python",
   "name": "python3"
  },
  "language_info": {
   "codemirror_mode": {
    "name": "ipython",
    "version": 3
   },
   "file_extension": ".py",
   "mimetype": "text/x-python",
   "name": "python",
   "nbconvert_exporter": "python",
   "pygments_lexer": "ipython3",
   "version": "3.9.12"
  }
 },
 "nbformat": 4,
 "nbformat_minor": 5
}
